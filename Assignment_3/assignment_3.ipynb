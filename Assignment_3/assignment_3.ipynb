{
 "cells": [
  {
   "cell_type": "code",
   "execution_count": 2,
   "metadata": {},
   "outputs": [
    {
     "name": "stdout",
     "output_type": "stream",
     "text": [
      "P(B|A) =  0.0303030303030303\n"
     ]
    }
   ],
   "source": [
    "# Question 1\n",
    "\n",
    "def conditional_probability(p1,p2,P1):\n",
    "    P2=(P1*p2)/p1\n",
    "    print('P(B|A) = ',P2)\n",
    "    \n",
    "p1=11/36\n",
    "p2=6/36\n",
    "P1=2/36\n",
    "conditional_probability(p1,p2,P1)"
   ]
  },
  {
   "cell_type": "code",
   "execution_count": 2,
   "metadata": {},
   "outputs": [
    {
     "name": "stdout",
     "output_type": "stream",
     "text": [
      "Probability of drawing black ball from bag I =  0.5833333333333334\n"
     ]
    }
   ],
   "source": [
    "# Question 2\n",
    "\n",
    "def probability(p1,p2,P1,P2):\n",
    "    P=(p1*P1)/((p1*P1)+(p2*P2))\n",
    "    print('Probability of drawing black ball from bag I = ',P)\n",
    "\n",
    "p1=1/2\n",
    "p2=1/2\n",
    "P1=6/10\n",
    "P2=3/7\n",
    "probability(p1,p2,P1,P2)"
   ]
  },
  {
   "cell_type": "code",
   "execution_count": 3,
   "metadata": {},
   "outputs": [
    {
     "name": "stdout",
     "output_type": "stream",
     "text": [
      "Probability that man reports four and number is actually four =  0.28571428571428564\n"
     ]
    }
   ],
   "source": [
    "# Question 3\n",
    "\n",
    "def Probability_report(p1,p2,P1,P2):\n",
    "    P=(p1*P1)/((p1*P1)+(p2*P2))\n",
    "    print('Probability that man reports four and number is actually four = ',P)\n",
    "\n",
    "p1=1/6\n",
    "p2=5/6\n",
    "P1=2/3\n",
    "P2=1-(2/3)\n",
    "Probability_report(p1,p2,P1,P2)"
   ]
  },
  {
   "cell_type": "code",
   "execution_count": null,
   "metadata": {},
   "outputs": [],
   "source": []
  }
 ],
 "metadata": {
  "kernelspec": {
   "display_name": "Python 3",
   "language": "python",
   "name": "python3"
  },
  "language_info": {
   "codemirror_mode": {
    "name": "ipython",
    "version": 3
   },
   "file_extension": ".py",
   "mimetype": "text/x-python",
   "name": "python",
   "nbconvert_exporter": "python",
   "pygments_lexer": "ipython3",
   "version": "3.7.1"
  }
 },
 "nbformat": 4,
 "nbformat_minor": 2
}
